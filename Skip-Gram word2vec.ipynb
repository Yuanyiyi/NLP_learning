{
 "cells": [
  {
   "cell_type": "code",
   "execution_count": 2,
   "metadata": {},
   "outputs": [],
   "source": [
    "import collections\n",
    "import math\n",
    "import os\n",
    "import random\n",
    "import zipfile\n",
    "import numpy as np\n",
    "import urllib\n",
    "import tensorflow as tf"
   ]
  },
  {
   "cell_type": "code",
   "execution_count": 3,
   "metadata": {},
   "outputs": [],
   "source": [
    "def read_data(filename):\n",
    "    with zipfile.ZipFile(filename) as f:\n",
    "        data = tf.compat.as_str(f.read(f.namelist()[0])).split()\n",
    "    return data"
   ]
  },
  {
   "cell_type": "code",
   "execution_count": 4,
   "metadata": {},
   "outputs": [
    {
     "name": "stdout",
     "output_type": "stream",
     "text": [
      "Data size 17005207\n"
     ]
    }
   ],
   "source": [
    "words = read_data('C:/Users/lejon/tensorLearn/text8.zip')\n",
    "print('Data size',len(words))"
   ]
  },
  {
   "cell_type": "code",
   "execution_count": 5,
   "metadata": {},
   "outputs": [],
   "source": [
    "vocabulary_size = 50000\n",
    "def build_dataset(words):\n",
    "    count = [['UNK',-1]]\n",
    "    count.extend(collections.Counter(words).most_common(vocabulary_size - 1))\n",
    "    dictionary = dict()\n",
    "    for word,_ in count:\n",
    "        dictionary[word] = len(dictionary)\n",
    "    data = list()\n",
    "    unk_count = 0\n",
    "    for word in words:\n",
    "        if word in dictionary:\n",
    "            index = dictionary[word]\n",
    "        else:\n",
    "            index = 0\n",
    "            unk_count += 1\n",
    "        data.append(index)\n",
    "    count[0][1] = unk_count\n",
    "    reverse_dictionary = dict(zip(dictionary.values(),dictionary.keys()))\n",
    "    return data,count,dictionary,reverse_dictionary"
   ]
  },
  {
   "cell_type": "code",
   "execution_count": 6,
   "metadata": {},
   "outputs": [
    {
     "name": "stdout",
     "output_type": "stream",
     "text": [
      "Most common words (+UNK) [['UNK', 418391], ('the', 1061396), ('of', 593677), ('and', 416629), ('one', 411764)]\n",
      "Sample data [5234, 3081, 12, 6, 195, 2, 3134, 46, 59, 156] ['anarchism', 'originated', 'as', 'a', 'term', 'of', 'abuse', 'first', 'used', 'against']\n"
     ]
    }
   ],
   "source": [
    "data,count,dictionary,reverse_dictionary = build_dataset(words)\n",
    "del words\n",
    "print('Most common words (+UNK)',count[:5])\n",
    "print('Sample data',data[:10],[reverse_dictionary[i] for i in data[:10]])"
   ]
  },
  {
   "cell_type": "code",
   "execution_count": 7,
   "metadata": {},
   "outputs": [],
   "source": [
    "data_index = 0\n",
    "def generate_batch(batch_size,num_skips,skip_window):\n",
    "    global data_index\n",
    "    assert batch_size % num_skips==0\n",
    "    assert num_skips <= 2*skip_window\n",
    "    batch = np.ndarray(shape=(batch_size),dtype=np.int32)\n",
    "    labels = np.ndarray(shape=(batch_size,1),dtype=np.int32)\n",
    "    span = 2*skip_window + 1\n",
    "    buffer = collections.deque(maxlen=span)\n",
    "    for _ in range(span):\n",
    "        buffer.append(data[data_index])\n",
    "        data_index = (data_index+1)%len(data)\n",
    "    for i in range(batch_size//num_skips):\n",
    "        target = skip_window\n",
    "        targets_to_avoid = [skip_window]\n",
    "        for j in range(num_skips):\n",
    "            while target in targets_to_avoid:\n",
    "                target = random.randint(0,span-1)\n",
    "            targets_to_avoid.append(target)\n",
    "            batch[i*num_skips+j] = buffer[skip_window]\n",
    "            labels[i*num_skips+j,0] = buffer[target]\n",
    "        buffer.append(data[data_index])\n",
    "        data_index = (data_index+1)%len(data)\n",
    "    return batch,labels"
   ]
  },
  {
   "cell_type": "code",
   "execution_count": 8,
   "metadata": {},
   "outputs": [],
   "source": [
    "batch,labels = generate_batch(batch_size=8,num_skips=2,skip_window=1)"
   ]
  },
  {
   "cell_type": "code",
   "execution_count": 9,
   "metadata": {},
   "outputs": [
    {
     "name": "stdout",
     "output_type": "stream",
     "text": [
      "3081 originated -> 5234 anarchism\n",
      "3081 originated -> 12 as\n",
      "12 as -> 6 a\n",
      "12 as -> 3081 originated\n",
      "6 a -> 195 term\n",
      "6 a -> 12 as\n",
      "195 term -> 2 of\n",
      "195 term -> 6 a\n"
     ]
    }
   ],
   "source": [
    "for i in range(8):\n",
    "    print(batch[i],reverse_dictionary[batch[i]],'->',labels[i,0],reverse_dictionary[labels[i,0]])"
   ]
  },
  {
   "cell_type": "code",
   "execution_count": 10,
   "metadata": {},
   "outputs": [],
   "source": [
    "batch_size = 128\n",
    "embedding_size = 128\n",
    "skip_window = 1\n",
    "num_skips = 2\n",
    "valid_size = 16\n",
    "valid_window = 100\n",
    "valid_examples = np.random.choice(valid_window,valid_size,replace=False)\n",
    "num_sampled = 64"
   ]
  },
  {
   "cell_type": "code",
   "execution_count": 11,
   "metadata": {},
   "outputs": [
    {
     "name": "stdout",
     "output_type": "stream",
     "text": [
      "WARNING:tensorflow:From <ipython-input-11-a70d260d1f12>:21: calling reduce_sum (from tensorflow.python.ops.math_ops) with keep_dims is deprecated and will be removed in a future version.\n",
      "Instructions for updating:\n",
      "keep_dims is deprecated, use keepdims instead\n"
     ]
    }
   ],
   "source": [
    "graph = tf.Graph()\n",
    "with graph.as_default():\n",
    "    train_inputs = tf.placeholder(tf.int32,shape=[batch_size])\n",
    "    train_labels = tf.placeholder(tf.int32,shape=[batch_size,1])\n",
    "    valid_dataset = tf.constant(valid_examples,dtype=tf.int32)\n",
    "\n",
    "    with tf.device('/cpu:0'):\n",
    "        embeddings = tf.Variable(tf.random_uniform([vocabulary_size,embedding_size],-1.0,1.0))\n",
    "    embed = tf.nn.embedding_lookup(embeddings,train_inputs) # 选取train_inouts对应的embedding\n",
    "\n",
    "    nce_weights = tf.Variable(tf.truncated_normal([vocabulary_size,embedding_size],stddev=1.0/math.sqrt(embedding_size)))\n",
    "    nce_biases = tf.Variable(tf.zeros([vocabulary_size]))\n",
    "    loss = tf.reduce_mean(tf.nn.nce_loss(weights=nce_weights,\n",
    "                                         biases=nce_biases,\n",
    "                                         labels = train_labels,\n",
    "                                         inputs=embed,\n",
    "                                         num_sampled=num_sampled,\n",
    "                                         num_classes=vocabulary_size))\n",
    "\n",
    "    optimizer = tf.train.GradientDescentOptimizer(1.0).minimize(loss) # 学习率为1.0\n",
    "    norm = tf.sqrt(tf.reduce_sum(tf.square(embeddings),1,keep_dims=True)) # tf.reduce_sum(a,1)降维求和，行求和;tf.sqrt求平方根\n",
    "    normalized_embeddings = embeddings/norm\n",
    "    valid_embeddings = tf.nn.embedding_lookup(normalized_embeddings,valid_dataset) # 按照valid_dataset对normalized_embeddings排序\n",
    "    similarity = tf.matmul(valid_embeddings,normalized_embeddings,transpose_b=True)\n",
    "    init = tf.global_variables_initializer()"
   ]
  },
  {
   "cell_type": "code",
   "execution_count": null,
   "metadata": {},
   "outputs": [
    {
     "name": "stdout",
     "output_type": "stream",
     "text": [
      "Initialized\n",
      "Average loss at step 0 : 261.0079345703125\n",
      "Nearest to see: accorded, eschenbach, billy, divide, townsfolk, watching, diaries, conjunctive,\n",
      "Nearest to i: connoisseurs, sockets, zia, interchangeably, osz, whitehall, kirwan, manufactures,\n",
      "Nearest to it: converts, paget, preemptive, academic, refrigeration, boer, berio, galvanized,\n",
      "Nearest to history: none, ooze, quae, instructive, noise, walsh, monistic, chaos,\n",
      "Nearest to no: cooks, ger, control, piecemeal, airport, murakami, nissan, tivoli,\n",
      "Nearest to more: abstraction, holloway, bob, mclean, gasses, exhausting, mint, dependency,\n",
      "Nearest to from: intra, dribble, speer, milestones, unreal, proficiency, andrewes, pharyngeal,\n",
      "Nearest to two: bitumen, aware, send, prior, ursinus, hydrogenation, samplers, undetectable,\n",
      "Nearest to in: taland, gambia, greeted, rebuked, hdi, withheld, jive, underarm,\n",
      "Nearest to war: archer, napoleonic, amazed, praise, loan, tribes, equalizer, claimant,\n",
      "Nearest to they: tullius, idiopathic, look, iamblichus, macon, blossomed, heiner, whitfield,\n",
      "Nearest to he: hypoxia, missoula, arrangements, filippo, reclassified, zhuang, presidents, generalizes,\n",
      "Nearest to over: diane, greenhouse, rounded, mandatory, indymedia, motorsports, anoint, herbivorous,\n",
      "Nearest to these: ripple, hydrology, cucumber, anglophones, vidkun, killings, imap, mitral,\n",
      "Nearest to up: novak, those, candle, rivalries, uppercase, globalisation, livery, mcdonnell,\n",
      "Nearest to have: breached, decisions, chilling, engined, villiers, refueling, hadrian, oyster,\n",
      "Average loss at step 2000 : 113.5856650466919\n",
      "Average loss at step 4000 : 52.853456070661544\n",
      "Average loss at step 6000 : 33.48647872924805\n",
      "Average loss at step 8000 : 23.788766931414603\n",
      "Average loss at step 10000 : 18.01910107731819\n",
      "Nearest to see: austin, watching, billy, vs, mujahideen, paints, divide, cc,\n",
      "Nearest to i: g, warships, connoisseurs, breakup, sulfate, degeneration, difficulty, arts,\n",
      "Nearest to it: elected, austin, academic, declined, phi, compromises, wa, converts,\n",
      "Nearest to history: none, davis, noise, establishment, astrological, chaos, bounded, y,\n",
      "Nearest to no: control, blockade, airport, existence, wealth, mathbf, amo, victoriae,\n",
      "Nearest to more: cc, dependency, parity, abstraction, elizabeth, bob, divided, mathbf,\n",
      "Nearest to from: speer, in, of, being, by, and, altenberg, austin,\n",
      "Nearest to two: vs, one, phi, mathbf, gland, victoriae, three, cl,\n",
      "Nearest to in: and, of, on, at, by, with, is, nine,\n",
      "Nearest to war: tribes, phi, praise, attributed, library, loan, archer, wickets,\n",
      "Nearest to they: not, look, abruzzo, conformations, seal, he, rotate, algebraically,\n",
      "Nearest to he: algorithms, that, and, literature, filippo, they, mean, australia,\n",
      "Nearest to over: cl, of, rounded, western, xbox, greenhouse, producer, motorsports,\n",
      "Nearest to these: georgian, villages, uke, election, embraces, ripple, killings, whale,\n",
      "Nearest to up: austin, symbol, those, trees, uppercase, continued, satrap, novak,\n",
      "Nearest to have: engined, has, indian, be, rotors, women, utah, austin,\n",
      "Average loss at step 12000 : 13.835637386322022\n",
      "Average loss at step 14000 : 11.40299350643158\n",
      "Average loss at step 16000 : 9.83322061252594\n",
      "Average loss at step 18000 : 8.589968078255653\n",
      "Average loss at step 20000 : 7.884314177036285\n",
      "Nearest to see: billy, accorded, watching, paints, mujahideen, and, eight, hours,\n",
      "Nearest to i: g, arts, dmt, warships, deficiency, altar, dio, sulfate,\n",
      "Nearest to it: he, this, there, truetype, elected, apatosaurus, phi, which,\n",
      "Nearest to history: none, aquila, noise, establishment, agouti, bounded, respected, chaos,\n",
      "Nearest to no: blockade, control, airport, pietro, existence, a, some, mathbf,\n",
      "Nearest to more: dependency, parity, cc, expansion, divided, elizabeth, abstraction, bob,\n",
      "Nearest to from: in, and, of, by, speer, for, vernal, nine,\n",
      "Nearest to two: three, one, eight, six, four, zero, five, nine,\n",
      "Nearest to in: and, at, from, on, of, by, for, dasyprocta,\n",
      "Nearest to war: tribes, archer, agouti, phi, attributed, napoleonic, loan, praise,\n",
      "Nearest to they: he, not, it, look, pavia, travis, abruzzo, seal,\n",
      "Nearest to he: it, they, she, who, algorithms, that, literature, and,\n",
      "Nearest to over: cl, of, rounded, dasyprocta, western, finds, xbox, diane,\n",
      "Nearest to these: the, which, ripple, georgian, embraces, killings, uke, reunited,\n",
      "Nearest to up: austin, symbol, trees, unnoticed, those, continued, uppercase, satrap,\n",
      "Nearest to have: be, has, engined, are, strings, indian, had, advised,\n",
      "Average loss at step 22000 : 7.234196123123169\n",
      "Average loss at step 24000 : 6.963030977129936\n",
      "Average loss at step 26000 : 6.739287231564521\n",
      "Average loss at step 28000 : 6.280131109118462\n",
      "Average loss at step 30000 : 6.1829985014200215\n",
      "Nearest to see: mishnayot, and, watching, billy, paints, accorded, hours, mujahideen,\n",
      "Nearest to i: pasadena, warships, interferon, g, arts, three, deficiency, masking,\n",
      "Nearest to it: he, this, there, they, which, amalthea, elected, apl,\n",
      "Nearest to history: none, aquila, establishment, pathogen, astrological, bounded, noise, agouti,\n",
      "Nearest to no: blockade, control, some, airport, pietro, a, primigenius, adorned,\n",
      "Nearest to more: dependency, parity, cc, expansion, abstraction, vous, traverse, divided,\n",
      "Nearest to from: in, of, by, antiderivative, for, and, speer, vernal,\n",
      "Nearest to two: four, six, one, three, five, eight, seven, zero,\n",
      "Nearest to in: and, at, of, on, from, aba, nine, for,\n",
      "Nearest to war: tribes, archer, napoleonic, attributed, library, phi, loan, amazed,\n",
      "Nearest to they: he, not, it, we, there, travis, pavia, quoting,\n",
      "Nearest to he: it, they, she, who, lulu, algorithms, six, aba,\n",
      "Nearest to over: akita, cl, on, western, rounded, inform, diane, at,\n",
      "Nearest to these: the, many, which, georgian, disobedience, killings, embraces, absalom,\n",
      "Nearest to up: austin, continued, symbol, those, trees, qb, uppercase, calvinist,\n",
      "Nearest to have: has, be, are, had, were, strings, agouti, maize,\n",
      "Average loss at step 32000 : 5.836380724787712\n",
      "Average loss at step 34000 : 5.9031123483181\n",
      "Average loss at step 36000 : 5.687984507918358\n",
      "Average loss at step 38000 : 5.27953607916832\n",
      "Average loss at step 40000 : 5.476590979993343\n",
      "Nearest to see: mishnayot, and, watching, paints, accorded, billy, bullets, rijndael,\n",
      "Nearest to i: connoisseurs, warships, we, g, interferon, pasadena, pause, deficiency,\n",
      "Nearest to it: he, this, there, which, they, strikeouts, not, six,\n",
      "Nearest to history: aquila, none, pathogen, establishment, agouti, astrological, two, dasyprocta,\n",
      "Nearest to no: blockade, pietro, a, some, control, airport, primigenius, it,\n",
      "Nearest to more: parity, dependency, cc, vous, abstraction, expansion, traverse, divided,\n",
      "Nearest to from: in, antiderivative, of, agouti, vernal, speer, for, kx,\n",
      "Nearest to two: three, four, six, five, one, seven, eight, agouti,\n",
      "Nearest to in: at, from, and, aba, on, dasyprocta, agouti, with,\n",
      "Nearest to war: phi, library, napoleonic, tribes, archer, agouti, attributed, amazed,\n",
      "Nearest to they: he, not, it, we, there, you, who, travis,\n",
      "Nearest to he: it, she, they, who, six, lulu, there, aba,\n",
      "Nearest to over: akita, cl, at, dasyprocta, rounded, from, inform, western,\n",
      "Nearest to these: many, which, the, georgian, disobedience, killings, reunited, embraces,\n",
      "Nearest to up: austin, continued, qb, those, mysore, mathbb, trees, symbol,\n",
      "Nearest to have: has, be, had, are, were, mound, albury, agouti,\n",
      "Average loss at step 42000 : 5.324364601969719\n",
      "Average loss at step 44000 : 5.272983295083046\n",
      "Average loss at step 46000 : 5.276118944644928\n",
      "Average loss at step 48000 : 5.040411892414093\n",
      "Average loss at step 50000 : 5.19108355474472\n",
      "Nearest to see: mishnayot, watching, prism, and, paints, rijndael, billy, accorded,\n",
      "Nearest to i: we, connoisseurs, warships, interferon, ii, pasadena, g, deficiency,\n",
      "Nearest to it: he, this, there, prism, which, they, strikeouts, not,\n",
      "Nearest to history: pathogen, aquila, none, establishment, hemoglobin, two, astrological, agouti,\n",
      "Nearest to no: blockade, a, pietro, control, some, primigenius, it, airport,\n",
      "Nearest to more: parity, less, dependency, cc, expansion, abstraction, vous, otimes,\n",
      "Nearest to from: in, and, speer, by, antiderivative, into, agouti, at,\n",
      "Nearest to two: three, one, four, six, five, eight, seven, agouti,\n",
      "Nearest to in: at, and, from, on, aba, agouti, of, bos,\n",
      "Nearest to war: tribes, library, phi, napoleonic, archer, beeb, naaman, agouti,\n",
      "Nearest to they: he, there, we, not, it, you, who, travis,\n",
      "Nearest to he: it, she, they, who, there, lulu, this, six,\n",
      "Nearest to over: akita, cl, rounded, from, about, duquette, inform, on,\n",
      "Nearest to these: many, which, some, the, two, disobedience, reunited, georgian,\n",
      "Nearest to up: mysore, continued, austin, uppercase, qb, those, mathbb, him,\n",
      "Nearest to have: has, had, be, are, were, agouti, mound, strings,\n"
     ]
    },
    {
     "name": "stdout",
     "output_type": "stream",
     "text": [
      "Average loss at step 52000 : 5.166574693441391\n",
      "Average loss at step 54000 : 5.135505759596825\n",
      "Average loss at step 56000 : 5.071027046322823\n",
      "Average loss at step 58000 : 5.1111913626194\n",
      "Average loss at step 60000 : 4.939165663301945\n",
      "Nearest to see: mishnayot, ssbn, but, prism, watching, and, michelob, paints,\n",
      "Nearest to i: warships, we, connoisseurs, ii, g, interferon, arts, microbats,\n",
      "Nearest to it: he, this, there, prism, which, they, saguinus, tamarin,\n",
      "Nearest to history: aquila, agouti, dasyprocta, pathogen, wct, akh, recitative, hemoglobin,\n",
      "Nearest to no: blockade, pietro, some, a, cooks, airport, control, primigenius,\n",
      "Nearest to more: less, parity, cc, dependency, otimes, expansion, microcebus, vous,\n",
      "Nearest to from: in, into, and, vernal, antiderivative, by, speer, on,\n",
      "Nearest to two: three, four, six, five, one, eight, seven, tamarin,\n",
      "Nearest to in: at, and, from, on, aba, agouti, bos, tamarin,\n",
      "Nearest to war: library, tribes, napoleonic, agouti, beeb, naaman, phi, exterminate,\n",
      "Nearest to they: he, there, we, you, not, it, who, microcebus,\n",
      "Nearest to he: it, she, they, who, there, lulu, microcebus, this,\n",
      "Nearest to over: akita, cl, about, microcebus, ssbn, on, rounded, five,\n",
      "Nearest to these: many, some, which, disobedience, reunited, all, several, microcebus,\n",
      "Nearest to up: him, mysore, continued, uppercase, those, mathbb, qb, austin,\n",
      "Nearest to have: has, had, are, be, were, ssbn, michelob, mound,\n",
      "Average loss at step 62000 : 4.796236327528954\n",
      "Average loss at step 64000 : 4.788313644647598\n",
      "Average loss at step 66000 : 4.9457471290826795\n"
     ]
    }
   ],
   "source": [
    "num_steps = 100001\n",
    "with tf.Session(graph=graph) as session:\n",
    "    init.run()\n",
    "    print('Initialized')\n",
    "    average_loss = 0\n",
    "    for step in range(num_steps):\n",
    "        batch_inputs,batch_labels = generate_batch(batch_size,num_skips,skip_window)\n",
    "        feed_dict = {train_inputs:batch_inputs,train_labels:batch_labels}\n",
    "        _,loss_val = session.run([optimizer,loss],feed_dict=feed_dict)\n",
    "        average_loss += loss_val\n",
    "        if step % 2000 == 0:\n",
    "            if step > 0:\n",
    "                average_loss /= 2000\n",
    "            print('Average loss at step',step,\":\",average_loss)\n",
    "            average_loss = 0\n",
    "        if step % 10000 == 0:\n",
    "            sim = similarity.eval()\n",
    "            for i in range(valid_size):\n",
    "                valid_word = reverse_dictionary[valid_examples[i]]\n",
    "                top_k = 8\n",
    "                nearest = (-sim[i,:]).argsort()[1:top_k+1]\n",
    "                log_str = \"Nearest to %s:\"%valid_word\n",
    "                for k in range(top_k):\n",
    "                    close_word = reverse_dictionary[nearest[k]]\n",
    "                    log_str = \"%s %s,\"%(log_str,close_word)\n",
    "                print(log_str)\n",
    "    final_embeddings = normalized_embeddings.eval()"
   ]
  },
  {
   "cell_type": "code",
   "execution_count": null,
   "metadata": {},
   "outputs": [],
   "source": [
    "def plot_with_labels(low_dim_embs,labels,filename='tsne.png'):\n",
    "    assert low_dim_embs.shape[0] >= len(labels),'More labels than embeddings'\n",
    "    import matplotlib.pyplot as plt\n",
    "    plt.figure(figsize=(18,18))\n",
    "    for i,label in enumerate(labels):\n",
    "        x,y = low_dim_embs[i,:]\n",
    "        plt.scatter(x,y)\n",
    "        plt.annotate(label,\n",
    "                     xy=(x,y),\n",
    "                     xytext=(5,2),\n",
    "                     textcoords='offset points',\n",
    "                     ha='right',va='bottom')\n",
    "    plt.savefig(filename)"
   ]
  },
  {
   "cell_type": "code",
   "execution_count": null,
   "metadata": {},
   "outputs": [],
   "source": [
    "from sklearn.manifold import TSNE\n",
    "import matplotlib.pyplot as plt\n",
    "tsne = TSNE(perplexity=30,n_components=2,init='pca',n_iter=5000)\n",
    "plot_only = 100\n",
    "low_dim_embs = tsne.fit_transform(final_embeddings[:plot_only,:])\n",
    "labels = [reverse_dictionary[i] for i in range(plot_only)]\n",
    "plot_with_labels(low_dim_embs,labels)"
   ]
  },
  {
   "cell_type": "code",
   "execution_count": null,
   "metadata": {},
   "outputs": [],
   "source": [
    "plt.show()"
   ]
  },
  {
   "cell_type": "code",
   "execution_count": null,
   "metadata": {},
   "outputs": [],
   "source": []
  }
 ],
 "metadata": {
  "kernelspec": {
   "display_name": "Python 3",
   "language": "python",
   "name": "python3"
  },
  "language_info": {
   "codemirror_mode": {
    "name": "ipython",
    "version": 3
   },
   "file_extension": ".py",
   "mimetype": "text/x-python",
   "name": "python",
   "nbconvert_exporter": "python",
   "pygments_lexer": "ipython3",
   "version": "3.6.5"
  }
 },
 "nbformat": 4,
 "nbformat_minor": 2
}
