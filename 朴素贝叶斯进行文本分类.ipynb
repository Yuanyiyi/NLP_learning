{
 "cells": [
  {
   "cell_type": "code",
   "execution_count": 1,
   "metadata": {},
   "outputs": [],
   "source": [
    "import jieba\n",
    "import pandas as pd\n",
    "import numpy as np\n",
    "from sklearn.feature_extraction.text import TfidfTransformer,CountVectorizer\n",
    "from sklearn.naive_bayes import MultinomialNB,BernoulliNB\n",
    "import random"
   ]
  },
  {
   "cell_type": "markdown",
   "metadata": {},
   "source": [
    "# 文本处理，将label和content分开"
   ]
  },
  {
   "cell_type": "code",
   "execution_count": 2,
   "metadata": {},
   "outputs": [],
   "source": [
    "# preprocess用于将一个文本文档进行切词，并以字符串形式输出切词结果\n",
    "path = './cnews.test.txt'\n",
    "with open(path,'r',encoding='UTF-8') as f:\n",
    "    cnews_test = f.readlines()\n",
    "# 取test中前3000出来分为2000为训练样本，1000测试样本\n",
    "cnews_test = cnews_test[500:1000]+cnews_test[1500:2000]+cnews_test[2500:3000]+cnews_test[3500:4000]+cnews_test[4500:5000]+cnews_test[5500:6000]\n",
    "# 将test中的label取出\n",
    "test_label,test_x = [],[]\n",
    "n = list(range(len(cnews_test)))\n",
    "random.shuffle(n)\n",
    "for i in n:\n",
    "    each = cnews_test[i]\n",
    "    each0 = each.split('\\t')\n",
    "    test_label.append(each0[0])\n",
    "    test_x.append(each0[1])"
   ]
  },
  {
   "cell_type": "markdown",
   "metadata": {},
   "source": [
    "对文本内容进行分词后并以\" \"连接"
   ]
  },
  {
   "cell_type": "code",
   "execution_count": 3,
   "metadata": {},
   "outputs": [
    {
     "name": "stderr",
     "output_type": "stream",
     "text": [
      "Building prefix dict from the default dictionary ...\n",
      "Loading model from cache C:\\Users\\lejon\\AppData\\Local\\Temp\\jieba.cache\n",
      "Loading model cost 0.630 seconds.\n",
      "Prefix dict has been built succesfully.\n"
     ]
    }
   ],
   "source": [
    "# 取test中前3000出来分为2000为训练样本，1000测试样本\n",
    "import jieba\n",
    "# 使用jieba精确分词\n",
    "test_x = [[each0 for each0 in jieba.cut(each)] for each in test_x]\n",
    "test_x = [' '.join(each) for each in test_x]"
   ]
  },
  {
   "cell_type": "markdown",
   "metadata": {},
   "source": [
    "将3000个样本分为2500的train数据，500的test数据"
   ]
  },
  {
   "cell_type": "code",
   "execution_count": 4,
   "metadata": {},
   "outputs": [],
   "source": [
    "train_X = test_x[:2500]\n",
    "train_y = test_label[:2500]\n",
    "test_X = test_x[2500:]\n",
    "test_y = test_label[2500:]"
   ]
  },
  {
   "cell_type": "markdown",
   "metadata": {},
   "source": [
    "多项式模型计算文本分类"
   ]
  },
  {
   "cell_type": "code",
   "execution_count": 5,
   "metadata": {},
   "outputs": [],
   "source": [
    "count_vector = CountVectorizer()\n",
    "# 该类会将文本中的词语转换为词频矩阵，矩阵元素a[i][j]表示j词在i类文本下的词频\n",
    "vector_matrix = count_vector.fit_transform(train_X)\n",
    "\n",
    "# tfidf度量模型\n",
    "train_tfidf = TfidfTransformer(use_idf=False).fit_transform(vector_matrix)\n",
    "# 将词频矩阵转化为权重矩阵，每一个特征值就是一个单词的TF-IDF值\n",
    "\n",
    "# 调用MultinomialNB分类器进行训练\n",
    "clf = MultinomialNB().fit(train_tfidf,train_y)\n",
    "\n",
    "# 测试\n",
    "test_vector = count_vector.transform(test_X)\n",
    "test_tfidf = TfidfTransformer(use_idf=False).fit_transform(test_vector)\n",
    "predict_result = clf.predict(test_tfidf)"
   ]
  },
  {
   "cell_type": "markdown",
   "metadata": {},
   "source": [
    "以正确分类的个数，简单评测模型预测结果的准确率"
   ]
  },
  {
   "cell_type": "code",
   "execution_count": 6,
   "metadata": {},
   "outputs": [],
   "source": [
    "# 评测预测效果\n",
    "def accuracy_(test_y,predict):\n",
    "    TP,num = 0,len(test_y)\n",
    "    for i in range(num):\n",
    "        if test_y[i]==predict[i]:\n",
    "            TP+=1\n",
    "    return TP/num"
   ]
  },
  {
   "cell_type": "markdown",
   "metadata": {},
   "source": [
    "多项式模型分类效果"
   ]
  },
  {
   "cell_type": "code",
   "execution_count": 7,
   "metadata": {},
   "outputs": [
    {
     "name": "stdout",
     "output_type": "stream",
     "text": [
      "多项式模型分类效果：0.970000\n"
     ]
    }
   ],
   "source": [
    "print('多项式模型分类效果：%f'%accuracy_(test_y,predict_result))"
   ]
  },
  {
   "cell_type": "markdown",
   "metadata": {},
   "source": [
    "伯努利模型计算文本分类"
   ]
  },
  {
   "cell_type": "code",
   "execution_count": 8,
   "metadata": {},
   "outputs": [],
   "source": [
    "count_vector = CountVectorizer()\n",
    "# 该类会将文本中的词语转换为词频矩阵，矩阵元素a[i][j]表示j词在i类文本下的词频\n",
    "vector_matrix = count_vector.fit_transform(train_X)\n",
    "\n",
    "# tfidf度量模型\n",
    "train_tfidf = TfidfTransformer(use_idf=False).fit_transform(vector_matrix)\n",
    "# 将词频矩阵转化为权重矩阵，每一个特征值就是一个单词的TF-IDF值\n",
    "\n",
    "# 调用MultinomialNB分类器进行训练\n",
    "clf = BernoulliNB().fit(train_tfidf,train_y)\n",
    "\n",
    "# 测试\n",
    "test_vector = count_vector.transform(test_X)\n",
    "test_tfidf = TfidfTransformer(use_idf=False).fit_transform(test_vector)\n",
    "predict_result = clf.predict(test_tfidf)"
   ]
  },
  {
   "cell_type": "markdown",
   "metadata": {},
   "source": [
    "伯努利模型分类效果"
   ]
  },
  {
   "cell_type": "code",
   "execution_count": 9,
   "metadata": {},
   "outputs": [
    {
     "name": "stdout",
     "output_type": "stream",
     "text": [
      "伯努利模型分类效果：0.870000\n"
     ]
    }
   ],
   "source": [
    "print('伯努利模型分类效果：%f'%accuracy_(test_y,predict_result))"
   ]
  },
  {
   "cell_type": "code",
   "execution_count": null,
   "metadata": {},
   "outputs": [],
   "source": []
  }
 ],
 "metadata": {
  "kernelspec": {
   "display_name": "Python 3",
   "language": "python",
   "name": "python3"
  },
  "language_info": {
   "codemirror_mode": {
    "name": "ipython",
    "version": 3
   },
   "file_extension": ".py",
   "mimetype": "text/x-python",
   "name": "python",
   "nbconvert_exporter": "python",
   "pygments_lexer": "ipython3",
   "version": "3.6.5"
  }
 },
 "nbformat": 4,
 "nbformat_minor": 2
}
