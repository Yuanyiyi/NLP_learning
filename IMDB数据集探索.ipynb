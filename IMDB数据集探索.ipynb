{
 "cells": [
  {
   "cell_type": "markdown",
   "metadata": {},
   "source": [
    "## IMDB数据探索"
   ]
  },
  {
   "cell_type": "markdown",
   "metadata": {},
   "source": [
    " 数据下载"
   ]
  },
  {
   "cell_type": "code",
   "execution_count": 1,
   "metadata": {},
   "outputs": [
    {
     "name": "stderr",
     "output_type": "stream",
     "text": [
      "C:\\Users\\lejon\\Anaconda3\\lib\\site-packages\\h5py\\__init__.py:36: FutureWarning: Conversion of the second argument of issubdtype from `float` to `np.floating` is deprecated. In future, it will be treated as `np.float64 == np.dtype(float).type`.\n",
      "  from ._conv import register_converters as _register_converters\n"
     ]
    },
    {
     "name": "stdout",
     "output_type": "stream",
     "text": [
      "1.11.0\n"
     ]
    }
   ],
   "source": [
    "import tensorflow as tf\n",
    "from tensorflow import keras\n",
    "import numpy as np\n",
    "print(tf.__version__)"
   ]
  },
  {
   "cell_type": "code",
   "execution_count": 2,
   "metadata": {},
   "outputs": [],
   "source": [
    "imdb = keras.datasets.imdb\n",
    "(train_data,train_labels),(test_data,test_labels) = imdb.load_data(num_words=10000) # 取出常用的前10000字词"
   ]
  },
  {
   "cell_type": "markdown",
   "metadata": {},
   "source": [
    "查看数据样本量"
   ]
  },
  {
   "cell_type": "code",
   "execution_count": 3,
   "metadata": {},
   "outputs": [
    {
     "name": "stdout",
     "output_type": "stream",
     "text": [
      "Trainng entries:25000,labels:25000\n"
     ]
    }
   ],
   "source": [
    "print('Trainng entries:{},labels:{}'.format(len(train_data),len(train_labels)))"
   ]
  },
  {
   "cell_type": "code",
   "execution_count": 4,
   "metadata": {},
   "outputs": [
    {
     "name": "stdout",
     "output_type": "stream",
     "text": [
      "[1, 14, 22, 16, 43, 530, 973, 1622, 1385, 65, 458, 4468, 66, 3941, 4, 173, 36, 256, 5, 25, 100, 43, 838, 112, 50, 670, 2, 9, 35, 480, 284, 5, 150, 4, 172, 112, 167, 2, 336, 385, 39, 4, 172, 4536, 1111, 17, 546, 38, 13, 447, 4, 192, 50, 16, 6, 147, 2025, 19, 14, 22, 4, 1920, 4613, 469, 4, 22, 71, 87, 12, 16, 43, 530, 38, 76, 15, 13, 1247, 4, 22, 17, 515, 17, 12, 16, 626, 18, 2, 5, 62, 386, 12, 8, 316, 8, 106, 5, 4, 2223, 5244, 16, 480, 66, 3785, 33, 4, 130, 12, 16, 38, 619, 5, 25, 124, 51, 36, 135, 48, 25, 1415, 33, 6, 22, 12, 215, 28, 77, 52, 5, 14, 407, 16, 82, 2, 8, 4, 107, 117, 5952, 15, 256, 4, 2, 7, 3766, 5, 723, 36, 71, 43, 530, 476, 26, 400, 317, 46, 7, 4, 2, 1029, 13, 104, 88, 4, 381, 15, 297, 98, 32, 2071, 56, 26, 141, 6, 194, 7486, 18, 4, 226, 22, 21, 134, 476, 26, 480, 5, 144, 30, 5535, 18, 51, 36, 28, 224, 92, 25, 104, 4, 226, 65, 16, 38, 1334, 88, 12, 16, 283, 5, 16, 4472, 113, 103, 32, 15, 16, 5345, 19, 178, 32]\n"
     ]
    }
   ],
   "source": [
    "print(train_data[0])"
   ]
  },
  {
   "cell_type": "code",
   "execution_count": 5,
   "metadata": {},
   "outputs": [
    {
     "name": "stdout",
     "output_type": "stream",
     "text": [
      "218 189\n"
     ]
    }
   ],
   "source": [
    "print(len(train_data[0]),len(train_data[1])) \n",
    "# 影评的长度不同，因此我们在放入model之前，要将长度统一"
   ]
  },
  {
   "cell_type": "markdown",
   "metadata": {},
   "source": [
    "将数字转换为字词，便于查看"
   ]
  },
  {
   "cell_type": "code",
   "execution_count": 6,
   "metadata": {},
   "outputs": [],
   "source": [
    "# A dictionary mapping words to an integer index\n",
    "word_index = imdb.get_word_index()\n",
    "# The first indices are reserved\n",
    "word_index = {k:(v+3) for k,v in word_index.items()}\n",
    "word_index['<PAD>'] = 0\n",
    "word_index['<START>'] = 1\n",
    "word_index['UNK'] = 2 # unknow \n",
    "word_index['<UNUSED>'] = 3\n",
    "reverse_word_index = dict([(value,key) for (key,value) in word_index.items()])\n",
    "def decode_review(text):\n",
    "    return ' '.join([reverse_word_index.get(i,'?') for i in text])"
   ]
  },
  {
   "cell_type": "code",
   "execution_count": 7,
   "metadata": {},
   "outputs": [
    {
     "data": {
      "text/plain": [
       "\"<START> big hair big boobs bad music and a giant safety pin these are the words to best describe this terrible movie i love cheesy horror movies and i've seen hundreds but this had got to be on of the worst ever made the plot is paper thin and ridiculous the acting is an abomination the script is completely laughable the best is the end showdown with the cop and how he worked out who the killer is it's just so damn terribly written the clothes are sickening and funny in equal UNK the hair is big lots of boobs UNK men wear those cut UNK shirts that show off their UNK sickening that men actually wore them and the music is just UNK trash that plays over and over again in almost every scene there is trashy music boobs and UNK taking away bodies and the gym still doesn't close for UNK all joking aside this is a truly bad film whose only charm is to look back on the disaster that was the 80's and have a good old laugh at how bad everything was back then\""
      ]
     },
     "execution_count": 7,
     "metadata": {},
     "output_type": "execute_result"
    }
   ],
   "source": [
    "# 查看影评\n",
    "decode_review(train_data[1])"
   ]
  },
  {
   "cell_type": "markdown",
   "metadata": {},
   "source": [
    "数据准备"
   ]
  },
  {
   "cell_type": "code",
   "execution_count": 8,
   "metadata": {},
   "outputs": [],
   "source": [
    "# 影评长度相同，使用pad_sequences函数将长度标准化\n",
    "train_data = keras.preprocessing.sequence.pad_sequences(train_data,\n",
    "                                                        value=word_index['<PAD>'],\n",
    "                                                       padding = 'post',\n",
    "                                                       maxlen=256)\n",
    "test_data = keras.preprocessing.sequence.pad_sequences(test_data,\n",
    "                                                      value=word_index['<PAD>'],\n",
    "                                                       padding='post',\n",
    "                                                      maxlen = 256)"
   ]
  },
  {
   "cell_type": "code",
   "execution_count": 9,
   "metadata": {},
   "outputs": [
    {
     "name": "stdout",
     "output_type": "stream",
     "text": [
      "256 256\n"
     ]
    }
   ],
   "source": [
    "# 查看处理情况\n",
    "print(len(train_data[0]),len(train_data[1]))"
   ]
  },
  {
   "cell_type": "code",
   "execution_count": 10,
   "metadata": {},
   "outputs": [
    {
     "name": "stdout",
     "output_type": "stream",
     "text": [
      "[   1   14   22   16   43  530  973 1622 1385   65  458 4468   66 3941\n",
      "    4  173   36  256    5   25  100   43  838  112   50  670    2    9\n",
      "   35  480  284    5  150    4  172  112  167    2  336  385   39    4\n",
      "  172 4536 1111   17  546   38   13  447    4  192   50   16    6  147\n",
      " 2025   19   14   22    4 1920 4613  469    4   22   71   87   12   16\n",
      "   43  530   38   76   15   13 1247    4   22   17  515   17   12   16\n",
      "  626   18    2    5   62  386   12    8  316    8  106    5    4 2223\n",
      " 5244   16  480   66 3785   33    4  130   12   16   38  619    5   25\n",
      "  124   51   36  135   48   25 1415   33    6   22   12  215   28   77\n",
      "   52    5   14  407   16   82    2    8    4  107  117 5952   15  256\n",
      "    4    2    7 3766    5  723   36   71   43  530  476   26  400  317\n",
      "   46    7    4    2 1029   13  104   88    4  381   15  297   98   32\n",
      " 2071   56   26  141    6  194 7486   18    4  226   22   21  134  476\n",
      "   26  480    5  144   30 5535   18   51   36   28  224   92   25  104\n",
      "    4  226   65   16   38 1334   88   12   16  283    5   16 4472  113\n",
      "  103   32   15   16 5345   19  178   32    0    0    0    0    0    0\n",
      "    0    0    0    0    0    0    0    0    0    0    0    0    0    0\n",
      "    0    0    0    0    0    0    0    0    0    0    0    0    0    0\n",
      "    0    0    0    0]\n"
     ]
    }
   ],
   "source": [
    "# 查看填充情况,后位不足补0\n",
    "print(train_data[0])"
   ]
  },
  {
   "cell_type": "markdown",
   "metadata": {},
   "source": [
    "#构建模型\n",
    "\n",
    "神经网络通过堆叠层创建而成，这需要做出两个架构方面的主要决策：\n",
    "\n",
    "1）模型的层数设置\n",
    "2）每一层的隐藏单元设置\n",
    "\n",
    "目标导向：输入是字词对应的整数，预测的标签为0，1。这是一个文本的二分类问题，若是情感类的问题，labels可以是0，1，2或者0，1，2，3，4。文本分类一般是将文字切分、字词对应为整数、将输入的维度截长补短，统一维度、放入model、预测出概率、根据概率大小返回labels。"
   ]
  },
  {
   "cell_type": "code",
   "execution_count": 11,
   "metadata": {},
   "outputs": [
    {
     "name": "stdout",
     "output_type": "stream",
     "text": [
      "_________________________________________________________________\n",
      "Layer (type)                 Output Shape              Param #   \n",
      "=================================================================\n",
      "embedding (Embedding)        (None, None, 16)          160000    \n",
      "_________________________________________________________________\n",
      "global_average_pooling1d (Gl (None, 16)                0         \n",
      "_________________________________________________________________\n",
      "dense (Dense)                (None, 16)                272       \n",
      "_________________________________________________________________\n",
      "dense_1 (Dense)              (None, 1)                 17        \n",
      "=================================================================\n",
      "Total params: 160,289\n",
      "Trainable params: 160,289\n",
      "Non-trainable params: 0\n",
      "_________________________________________________________________\n"
     ]
    }
   ],
   "source": [
    "# input shape is the vocabulary count used for the movie reviews (10,000 words)\n",
    "vocab_size = 10000\n",
    "model = keras.Sequential()\n",
    "model.add(keras.layers.Embedding(vocab_size,16)) # 嵌入层设置\n",
    "model.add(keras.layers.GlobalAveragePooling1D()) \n",
    "model.add(keras.layers.Dense(16,activation=tf.nn.relu)) \n",
    "model.add(keras.layers.Dense(1,activation=tf.nn.sigmoid))\n",
    "model.summary() "
   ]
  },
  {
   "cell_type": "markdown",
   "metadata": {},
   "source": [
    "# 按顺序堆叠各个层以构建分类器：\n",
    "1）embedding层：该层会在整数编码的词汇表中查找每个字词-索引的嵌入向量。模型在接受训练时会学习这些向量。这些向量会向输出数组添加一个维度。生成的维度为：(batch,sequence,embedding)\n",
    "\n",
    "2）GlobalAveragePooling1D层：对序列维度求平均值，针对每个样本返回一个长度固定的输出向量。这样，模型便能够以尽可能简单的方式处理各种长度的输入。\n",
    "\n",
    "3）Dense层：该长度固定的输出向量会传入一个全连接(Dense)层，包含16各隐藏单元。\n",
    "\n",
    "4）最后一层与单个输出结点密集连接。选用sigmoid激活函数后，结果是介于0-1的float数值，表示概率或置信水平。"
   ]
  },
  {
   "cell_type": "markdown",
   "metadata": {},
   "source": [
    "# 损失函数和优化器\n",
    "输出为一个概率，因此使用binary_crossentropy损失函数。binary_crossentropy一般用于处理概率问题，mean_squared_error用于处理回归问题。"
   ]
  },
  {
   "cell_type": "code",
   "execution_count": 12,
   "metadata": {},
   "outputs": [],
   "source": [
    "model.compile(optimizer=tf.train.AdamOptimizer(),loss='binary_crossentropy',metrics=['accuracy'])"
   ]
  },
  {
   "cell_type": "code",
   "execution_count": 13,
   "metadata": {},
   "outputs": [],
   "source": [
    "# 创建验证集\n",
    "x_val = train_data[:10000] # 表示在train_data中取出前10000个样本\n",
    "partial_x_train = train_data[10000:]\n",
    "y_val = train_labels[:10000]\n",
    "partial_y_train = train_labels[10000:]"
   ]
  },
  {
   "cell_type": "markdown",
   "metadata": {},
   "source": [
    "## 训练模型\n",
    "用有512个样本的小批次训练模型20个周期。这将对x_train和y_train张量中的所有样本进行40次迭代。在训练期间，监控模型在验证集的1000个样本上的损失和准确率"
   ]
  },
  {
   "cell_type": "code",
   "execution_count": 14,
   "metadata": {},
   "outputs": [
    {
     "name": "stdout",
     "output_type": "stream",
     "text": [
      "Train on 15000 samples, validate on 10000 samples\n",
      "Epoch 1/20\n",
      "15000/15000 [==============================] - 5s 339us/step - loss: 0.6909 - acc: 0.6212 - val_loss: 0.6877 - val_acc: 0.7165\n",
      "Epoch 2/20\n",
      "15000/15000 [==============================] - 3s 231us/step - loss: 0.6822 - acc: 0.7324 - val_loss: 0.6763 - val_acc: 0.6993\n",
      "Epoch 3/20\n",
      "15000/15000 [==============================] - 3s 205us/step - loss: 0.6652 - acc: 0.7552 - val_loss: 0.6555 - val_acc: 0.7488\n",
      "Epoch 4/20\n",
      "15000/15000 [==============================] - 3s 209us/step - loss: 0.6373 - acc: 0.7665 - val_loss: 0.6257 - val_acc: 0.7814\n",
      "Epoch 5/20\n",
      "15000/15000 [==============================] - 3s 221us/step - loss: 0.5991 - acc: 0.8031 - val_loss: 0.5863 - val_acc: 0.7935\n",
      "Epoch 6/20\n",
      "15000/15000 [==============================] - 3s 190us/step - loss: 0.5535 - acc: 0.8219 - val_loss: 0.5432 - val_acc: 0.8083\n",
      "Epoch 7/20\n",
      "15000/15000 [==============================] - 3s 221us/step - loss: 0.5044 - acc: 0.8403 - val_loss: 0.4990 - val_acc: 0.8267\n",
      "Epoch 8/20\n",
      "15000/15000 [==============================] - 3s 168us/step - loss: 0.4569 - acc: 0.8569 - val_loss: 0.4584 - val_acc: 0.8407\n",
      "Epoch 9/20\n",
      "15000/15000 [==============================] - 3s 194us/step - loss: 0.4146 - acc: 0.8669 - val_loss: 0.4238 - val_acc: 0.8507\n",
      "Epoch 10/20\n",
      "15000/15000 [==============================] - 3s 188us/step - loss: 0.3776 - acc: 0.8813 - val_loss: 0.3955 - val_acc: 0.8564\n",
      "Epoch 11/20\n",
      "15000/15000 [==============================] - 3s 177us/step - loss: 0.3471 - acc: 0.8871 - val_loss: 0.3747 - val_acc: 0.8614\n",
      "Epoch 12/20\n",
      "15000/15000 [==============================] - 3s 191us/step - loss: 0.3220 - acc: 0.8938 - val_loss: 0.3545 - val_acc: 0.8684\n",
      "Epoch 13/20\n",
      "15000/15000 [==============================] - 3s 172us/step - loss: 0.2991 - acc: 0.9003 - val_loss: 0.3405 - val_acc: 0.8714\n",
      "Epoch 14/20\n",
      "15000/15000 [==============================] - 3s 231us/step - loss: 0.2801 - acc: 0.9061 - val_loss: 0.3282 - val_acc: 0.8745\n",
      "Epoch 15/20\n",
      "15000/15000 [==============================] - 3s 202us/step - loss: 0.2636 - acc: 0.9102 - val_loss: 0.3187 - val_acc: 0.8768\n",
      "Epoch 16/20\n",
      "15000/15000 [==============================] - 3s 200us/step - loss: 0.2495 - acc: 0.9138 - val_loss: 0.3109 - val_acc: 0.8789\n",
      "Epoch 17/20\n",
      "15000/15000 [==============================] - 3s 201us/step - loss: 0.2357 - acc: 0.9197 - val_loss: 0.3045 - val_acc: 0.8795\n",
      "Epoch 18/20\n",
      "15000/15000 [==============================] - 3s 217us/step - loss: 0.2238 - acc: 0.9237 - val_loss: 0.2992 - val_acc: 0.8825\n",
      "Epoch 19/20\n",
      "15000/15000 [==============================] - 3s 204us/step - loss: 0.2126 - acc: 0.9277 - val_loss: 0.2953 - val_acc: 0.8832\n",
      "Epoch 20/20\n",
      "15000/15000 [==============================] - 3s 216us/step - loss: 0.2027 - acc: 0.9310 - val_loss: 0.2916 - val_acc: 0.8835\n"
     ]
    }
   ],
   "source": [
    "history = model.fit(partial_x_train,partial_y_train,\n",
    "                   epochs = 20,\n",
    "                   batch_size=512,\n",
    "                   validation_data=(x_val,y_val),\n",
    "                   verbose=1)"
   ]
  },
  {
   "cell_type": "markdown",
   "metadata": {},
   "source": [
    "# 评估模型\n",
    "模型会返回两个值：损失(表示误差的数字，越低越好)和准确率"
   ]
  },
  {
   "cell_type": "code",
   "execution_count": 15,
   "metadata": {},
   "outputs": [
    {
     "name": "stdout",
     "output_type": "stream",
     "text": [
      "25000/25000 [==============================] - 2s 85us/step\n",
      "[0.3065829295539856, 0.87496]\n"
     ]
    }
   ],
   "source": [
    "results = model.evaluate(test_data,test_labels)\n",
    "print(results)"
   ]
  },
  {
   "cell_type": "markdown",
   "metadata": {},
   "source": [
    "# 创建准确率和损失随时间变化的图\n",
    "model.fit()返回一个History对象，该对象包含一个字典。其中包括训练期间发生的所有情况"
   ]
  },
  {
   "cell_type": "code",
   "execution_count": 16,
   "metadata": {},
   "outputs": [
    {
     "data": {
      "text/plain": [
       "dict_keys(['val_loss', 'val_acc', 'loss', 'acc'])"
      ]
     },
     "execution_count": 16,
     "metadata": {},
     "output_type": "execute_result"
    }
   ],
   "source": [
    "history_dict = history.history\n",
    "history_dict.keys()"
   ]
  },
  {
   "cell_type": "markdown",
   "metadata": {},
   "source": [
    "一共有 4 个条目：每个条目对应训练和验证期间的一个受监控指标。我们可以使用这些指标绘制训练损失与验证损失图表以进行对比，并绘制训练准确率与验证准确率图表："
   ]
  },
  {
   "cell_type": "code",
   "execution_count": 18,
   "metadata": {},
   "outputs": [
    {
     "data": {
      "image/png": "[encoded data removed]",
      "text/plain": [
       "<Figure size 432x288 with 1 Axes>"
      ]
     },
     "metadata": {},
     "output_type": "display_data"
    }
   ],
   "source": [
    "import matplotlib.pyplot as plt\n",
    "\n",
    "acc = history.history['acc']\n",
    "val_acc = history.history['val_acc']\n",
    "loss = history.history['loss']\n",
    "val_loss = history.history['val_loss']\n",
    "\n",
    "epochs = range(1, len(acc) + 1)\n",
    "\n",
    "# \"bo\" is for \"blue dot\"\n",
    "plt.plot(epochs, loss, 'bo', label='Training loss')\n",
    "# b is for \"solid blue line\"\n",
    "plt.plot(epochs, val_loss, 'b', label='Validation loss')\n",
    "plt.title('Training and validation loss')\n",
    "plt.xlabel('Epochs')\n",
    "plt.ylabel('Loss')\n",
    "plt.legend()\n",
    "\n",
    "plt.show()"
   ]
  },
  {
   "cell_type": "code",
   "execution_count": 19,
   "metadata": {},
   "outputs": [
    {
     "data": {
      "image/png": "[encoded data removed]",
      "text/plain": [
       "<Figure size 432x288 with 1 Axes>"
      ]
     },
     "metadata": {},
     "output_type": "display_data"
    }
   ],
   "source": [
    "plt.clf()   # clear figure\n",
    "acc_values = history_dict['acc']\n",
    "val_acc_values = history_dict['val_acc']\n",
    "\n",
    "plt.plot(epochs, acc, 'bo', label='Training acc')\n",
    "plt.plot(epochs, val_acc, 'b', label='Validation acc')\n",
    "plt.title('Training and validation accuracy')\n",
    "plt.xlabel('Epochs')\n",
    "plt.ylabel('Accuracy')\n",
    "plt.legend()\n",
    "\n",
    "plt.show()\n"
   ]
  }
 ],
 "metadata": {
  "kernelspec": {
   "display_name": "Python 3",
   "language": "python",
   "name": "python3"
  },
  "language_info": {
   "codemirror_mode": {
    "name": "ipython",
    "version": 3
   },
   "file_extension": ".py",
   "mimetype": "text/x-python",
   "name": "python",
   "nbconvert_exporter": "python",
   "pygments_lexer": "ipython3",
   "version": "3.6.5"
  }
 },
 "nbformat": 4,
 "nbformat_minor": 2
}
